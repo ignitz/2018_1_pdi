{
 "cells": [
  {
   "cell_type": "markdown",
   "metadata": {},
   "source": [
    "# Lab 5 - Segmentação\n",
    "\n",
    "> Yuri Diego Santos Niitsuma\n"
   ]
  },
  {
   "cell_type": "code",
   "execution_count": null,
   "metadata": {},
   "outputs": [],
   "source": [
    "import matplotlib.pyplot as plt\n",
    "import numpy as np\n",
    "\n",
    "from skimage import img_as_ubyte, color\n",
    "from skimage.filters import rank, threshold_otsu, threshold_mean\n",
    "from skimage.morphology import disk\n",
    "from skimage.segmentation import slic, watershed, mark_boundaries\n",
    "\n",
    "from scipy import misc\n",
    "from scipy import ndimage as ndi\n",
    "\n",
    "from ipywidgets import widgets\n",
    "\n",
    "# ignore mi mi mi\n",
    "import warnings\n",
    "warnings.filterwarnings('ignore')\n",
    "\n",
    "%matplotlib inline\n",
    "\n",
    "def show(img, cmap=None, figsize=(8, 6)):\n",
    "    cmap = cmap or plt.cm.gray\n",
    "    fig, ax = plt.subplots(1, 1, figsize=figsize)\n",
    "    ax.imshow(img, cmap=cmap)\n",
    "    ax.set_axis_off()\n",
    "    plt.show()"
   ]
  },
  {
   "cell_type": "markdown",
   "metadata": {},
   "source": [
    "## Escolha uma imagem em escala de cinza e uma colorida.\n",
    "## Escreva o código para carregar e mostrar a imagem.\n"
   ]
  },
  {
   "cell_type": "code",
   "execution_count": null,
   "metadata": {},
   "outputs": [],
   "source": [
    "# Will be deprected\n",
    "img_grey = misc.imread('img_grey.jpg', mode='L')\n",
    "img_color = misc.imread('img_color.jpg', mode='RGB')\n",
    "\n",
    "show(img_grey)\n",
    "show(img_color)"
   ]
  },
  {
   "cell_type": "markdown",
   "metadata": {},
   "source": [
    "## Escreva o código e mostre uma segmentação simples usando threshold."
   ]
  },
  {
   "cell_type": "code",
   "execution_count": null,
   "metadata": {},
   "outputs": [],
   "source": [
    "\"\"\"\n",
    "Threshold Otsu\n",
    "\"\"\"\n",
    "\n",
    "thr = threshold_otsu(img_grey)\n",
    "show(img_grey > thr)\n",
    "thr = threshold_otsu(color.rgb2gray(img_color))\n",
    "show(color.rgb2gray(img_color) > thr)"
   ]
  },
  {
   "cell_type": "code",
   "execution_count": null,
   "metadata": {},
   "outputs": [],
   "source": [
    "\"\"\"\n",
    "Threshold Mean\n",
    "\"\"\"\n",
    "thr = threshold_mean(img_grey)\n",
    "show(img_grey > thr)\n",
    "thr = threshold_mean(color.rgb2gray(img_color))\n",
    "show(color.rgb2gray(img_color) > thr)"
   ]
  },
  {
   "cell_type": "markdown",
   "metadata": {},
   "source": [
    "## Escreva o código e mostre uma segmentação watershed."
   ]
  },
  {
   "cell_type": "code",
   "execution_count": null,
   "metadata": {},
   "outputs": [],
   "source": [
    "def show_watershed(original_image):\n",
    "    img = img_as_ubyte(original_image)\n",
    "    img = color.rgb2gray(img)\n",
    "    denoised = rank.median(img, disk(2))\n",
    "    markers = rank.gradient(denoised, disk(5)) < 10\n",
    "    markers = ndi.label(markers)[0]\n",
    "    gradient = rank.gradient(denoised, disk(2))\n",
    "    labels = watershed(gradient, markers)\n",
    "    show(labels ,cmap=plt.cm.nipy_spectral)\n",
    "    show(mark_boundaries(original_image, labels), figsize=(16,12))"
   ]
  },
  {
   "cell_type": "code",
   "execution_count": null,
   "metadata": {},
   "outputs": [],
   "source": [
    "show_watershed(img_grey)"
   ]
  },
  {
   "cell_type": "code",
   "execution_count": null,
   "metadata": {},
   "outputs": [],
   "source": [
    "show_watershed(img_color)"
   ]
  },
  {
   "cell_type": "markdown",
   "metadata": {},
   "source": [
    "## Escreva o código e mostre uma segmentação usando SLIC."
   ]
  },
  {
   "cell_type": "code",
   "execution_count": null,
   "metadata": {},
   "outputs": [],
   "source": [
    "def show_slic(img, t):\n",
    "    # Aqui ajustei o compactness para que o SLIC seja pelo menos funcional em imagens cinza\n",
    "    segments_slic = slic(img, n_segments=250, compactness=t, sigma=0.5)\n",
    "    show(segments_slic)\n",
    "    show(mark_boundaries(img, segments_slic), figsize=(16, 12))"
   ]
  },
  {
   "cell_type": "code",
   "execution_count": null,
   "metadata": {},
   "outputs": [],
   "source": [
    "show_slic(img_grey, 0.05)"
   ]
  },
  {
   "cell_type": "code",
   "execution_count": null,
   "metadata": {},
   "outputs": [],
   "source": [
    "show_slic(img_color, 0.05)"
   ]
  },
  {
   "cell_type": "markdown",
   "metadata": {},
   "source": [
    "## Comente sobre os resultados obtidos com cada um dos métodos e como eles se comparam."
   ]
  },
  {
   "cell_type": "markdown",
   "metadata": {},
   "source": [
    "O Watershed tem melhor resultado melhor em agrupar cluster homogêneos. Já o SLIC depende do valor de parâmetro para funcionar melhor. "
   ]
  }
 ],
 "metadata": {
  "kernelspec": {
   "display_name": "Python 3",
   "language": "python",
   "name": "python3"
  },
  "language_info": {
   "codemirror_mode": {
    "name": "ipython",
    "version": 3
   },
   "file_extension": ".py",
   "mimetype": "text/x-python",
   "name": "python",
   "nbconvert_exporter": "python",
   "pygments_lexer": "ipython3",
   "version": "3.6.4"
  }
 },
 "nbformat": 4,
 "nbformat_minor": 2
}

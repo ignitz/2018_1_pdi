{
 "cells": [
  {
   "cell_type": "markdown",
   "metadata": {},
   "source": [
    "# <p style=\"text-align: center;\">Aula Prática 05</p>\n",
    "\n",
    "## Objetivos desta aula:\n",
    "\n",
    "    - Segmentação\n",
    "\n",
    "\n",
    "## Professor: Jefersson dos Santos - jefersson@dcc.ufmg.br\n",
    "### Monitor: Caio Cesar - caiosilva@ufmg.br"
   ]
  },
  {
   "cell_type": "markdown",
   "metadata": {},
   "source": [
    "Importações necessárias"
   ]
  },
  {
   "cell_type": "code",
   "execution_count": null,
   "metadata": {
    "collapsed": true
   },
   "outputs": [],
   "source": [
    "import matplotlib.pyplot as plt\n",
    "import numpy as np\n",
    "from scipy import ndimage as ndi\n",
    "from ipywidgets import widgets\n",
    "from skimage import img_as_float, segmentation, color, io\n",
    "from skimage.data import coins, binary_blobs, astronaut, page, camera, coffee\n",
    "from skimage.segmentation import clear_border, random_walker, felzenszwalb, slic, quickshift, watershed, mark_boundaries\n",
    "from skimage.morphology import label, closing, square, watershed, disk\n",
    "from skimage.measure import regionprops\n",
    "from skimage.color import lab2rgb, rgb2gray\n",
    "from skimage.filters import rank, sobel, threshold_otsu, try_all_threshold\n",
    "from skimage.util import img_as_ubyte, img_as_float\n",
    "from skimage.future import graph\n",
    "from skimage.exposure import rescale_intensity\n",
    "\n",
    "%matplotlib inline"
   ]
  },
  {
   "cell_type": "markdown",
   "metadata": {},
   "source": [
    "Comparação dos métodos de Threshold"
   ]
  },
  {
   "cell_type": "code",
   "execution_count": null,
   "metadata": {
    "scrolled": false
   },
   "outputs": [],
   "source": [
    "img = page()\n",
    "\n",
    "# Here, we specify a radius for local thresholding algorithms.\n",
    "# If it is not specified, only global algorithms are called.\n",
    "fig, ax = try_all_threshold(img, figsize=(10, 8), verbose=False)\n",
    "plt.show()"
   ]
  },
  {
   "cell_type": "markdown",
   "metadata": {},
   "source": [
    "Função auxiliar para mostrar as images:"
   ]
  },
  {
   "cell_type": "code",
   "execution_count": null,
   "metadata": {
    "collapsed": true
   },
   "outputs": [],
   "source": [
    "def show(img, cmap=None):\n",
    "    cmap = cmap or plt.cm.gray\n",
    "    fig, ax = plt.subplots(1, 1, figsize=(8, 6))\n",
    "    ax.imshow(img, cmap=cmap)\n",
    "    ax.set_axis_off()\n",
    "    plt.show()"
   ]
  },
  {
   "cell_type": "markdown",
   "metadata": {},
   "source": [
    "Usando imagem das moedas"
   ]
  },
  {
   "cell_type": "code",
   "execution_count": null,
   "metadata": {},
   "outputs": [],
   "source": [
    "imgC = coins()\n",
    "show(imgC)"
   ]
  },
  {
   "cell_type": "markdown",
   "metadata": {},
   "source": [
    "Calculando o Threshold Otsu e aplicando na imagem"
   ]
  },
  {
   "cell_type": "code",
   "execution_count": null,
   "metadata": {},
   "outputs": [],
   "source": [
    "thr = threshold_otsu(imgC)\n",
    "print \"Threshold otsu: \"+str(thr)\n",
    "show(imgC > thr)"
   ]
  },
  {
   "cell_type": "markdown",
   "metadata": {},
   "source": [
    "Encontrando um valor mais adequado"
   ]
  },
  {
   "cell_type": "code",
   "execution_count": null,
   "metadata": {},
   "outputs": [],
   "source": [
    "@widgets.interact(t=(50, 240))\n",
    "def threshold(t):\n",
    "    show(imgC > t)"
   ]
  },
  {
   "cell_type": "markdown",
   "metadata": {},
   "source": [
    "Utilizando transformações morfológicas para melhorar a segmentação."
   ]
  },
  {
   "cell_type": "code",
   "execution_count": null,
   "metadata": {},
   "outputs": [],
   "source": [
    "img_bin = clear_border(closing(imgC > 120, square(5)))\n",
    "show(img_bin)"
   ]
  },
  {
   "cell_type": "markdown",
   "metadata": {},
   "source": [
    "Utilizando o Watershed"
   ]
  },
  {
   "cell_type": "code",
   "execution_count": null,
   "metadata": {},
   "outputs": [],
   "source": [
    "image = img_as_ubyte(camera())\n",
    "\n",
    "# denoise image\n",
    "denoised = rank.median(image, disk(2))\n",
    "\n",
    "# find continuous region (low gradient - where less than 10 for this image) --> markers\n",
    "# disk(5) is used here to get a more smooth image\n",
    "markers = rank.gradient(denoised, disk(5)) < 10\n",
    "markers = ndi.label(markers)[0]\n",
    "\n",
    "# local gradient (disk(2) is used to keep edges thin)\n",
    "gradient = rank.gradient(denoised, disk(2))\n",
    "\n",
    "# process the watershed\n",
    "labels = watershed(gradient, markers)\n",
    "\n",
    "print (\"Original\")\n",
    "show(image)\n",
    "print (\"Local Gradient\")\n",
    "show(gradient, cmap=plt.cm.nipy_spectral)\n",
    "print (\"Markers\")\n",
    "show(markers, cmap=plt.cm.nipy_spectral)\n",
    "print (\"Segmented\")\n",
    "show(labels, cmap=plt.cm.nipy_spectral)"
   ]
  },
  {
   "cell_type": "markdown",
   "metadata": {},
   "source": [
    "Utilizando SLIC"
   ]
  },
  {
   "cell_type": "code",
   "execution_count": null,
   "metadata": {},
   "outputs": [],
   "source": [
    "img = coffee()\n",
    "\n",
    "labels1 = segmentation.slic(img, compactness=30, n_segments=400)\n",
    "out1 = color.label2rgb(labels1, img, kind='avg')\n",
    "\n",
    "g = graph.rag_mean_color(img, labels1)\n",
    "labels2 = graph.cut_threshold(labels1, g, 29)\n",
    "out2 = color.label2rgb(labels2, img, kind='avg')\n",
    "\n",
    "g3 = graph.rag_mean_color(img, labels1, mode='similarity')\n",
    "labels3 = graph.cut_normalized(labels1, g)\n",
    "out3 = color.label2rgb(labels3, img, kind='avg')\n",
    "\n",
    "show(out1)\n",
    "show(out2)\n",
    "show(out3)\n"
   ]
  },
  {
   "cell_type": "markdown",
   "metadata": {},
   "source": [
    "Usando Random Wlaker"
   ]
  },
  {
   "cell_type": "code",
   "execution_count": null,
   "metadata": {},
   "outputs": [],
   "source": [
    "# Generate noisy synthetic data\n",
    "data = img_as_float(binary_blobs(length=128, seed=18))\n",
    "sigma = 0.35\n",
    "data += np.random.normal(loc=0, scale=sigma, size=data.shape)\n",
    "data = rescale_intensity(data, in_range=(-sigma, 1 + sigma),\n",
    "                         out_range=(-1, 1))\n",
    "\n",
    "# The range of the binary image spans over (-1, 1).\n",
    "# We choose the hottest and the coldest pixels as markers.\n",
    "markers = np.zeros(data.shape, dtype=np.uint)\n",
    "markers[data < -0.95] = 1\n",
    "markers[data > 0.95] = 2\n",
    "\n",
    "# Run random walker algorithm\n",
    "labels = random_walker(data, markers, beta=10, mode='bf')\n",
    "\n",
    "show(data)\n",
    "show(markers)\n",
    "show(labels)"
   ]
  },
  {
   "cell_type": "markdown",
   "metadata": {},
   "source": [
    "Comparação entre o uso de segmentação e superpixel"
   ]
  },
  {
   "cell_type": "code",
   "execution_count": null,
   "metadata": {
    "collapsed": true
   },
   "outputs": [],
   "source": [
    "def shoeImgMArkers():\n",
    "    fig, ax = plt.subplots(1, 1, figsize=(10, 10), sharex=True, sharey=True)\n",
    "    ax[0, 0].imshow(mark_boundaries(img, segments_fz))\n",
    "    ax[0, 0].set_title(\"Felzenszwalbs's method\")"
   ]
  },
  {
   "cell_type": "code",
   "execution_count": null,
   "metadata": {},
   "outputs": [],
   "source": [
    "img = img_as_float(astronaut()[::2, ::2])\n",
    "\n",
    "segments_fz = felzenszwalb(img, scale=100, sigma=0.5, min_size=50)\n",
    "segments_slic = slic(img, n_segments=250, compactness=10, sigma=1)\n",
    "segments_quick = quickshift(img, kernel_size=3, max_dist=6, ratio=0.5)\n",
    "gradient = sobel(rgb2gray(img))\n",
    "segments_watershed = watershed(gradient, markers=250, compactness=0.001)\n",
    "\n",
    "print(\"Felzenszwalb number of segments: {}\".format(len(np.unique(segments_fz))))\n",
    "print('SLIC number of segments: {}'.format(len(np.unique(segments_slic))))\n",
    "print('Quickshift number of segments: {}'.format(len(np.unique(segments_quick))))\n",
    "\n",
    "print \"Felzenszwalbs's method\"\n",
    "show(mark_boundaries(img, segments_fz))\n",
    "print \"SLIC\"\n",
    "show(mark_boundaries(img, segments_slic))\n",
    "print \"Quickshift\"\n",
    "show(mark_boundaries(img, segments_quick))     \n",
    "print \"Compact watershed\"\n",
    "show(mark_boundaries(img, segments_watershed))"
   ]
  },
  {
   "cell_type": "markdown",
   "metadata": {},
   "source": [
    "Classificação simples"
   ]
  },
  {
   "cell_type": "code",
   "execution_count": null,
   "metadata": {},
   "outputs": [],
   "source": [
    "labels = label(img_bin)\n",
    "show(labels, cmap=plt.cm.rainbow)\n",
    "regions = regionprops(labels)\n",
    "boxes = np.array([label['BoundingBox']\n",
    "                  for label in regions\n",
    "                  if label['Area'] > 100])\n",
    "print(\"Existem \"+str(len(boxes))+\" moedas.\")"
   ]
  },
  {
   "cell_type": "code",
   "execution_count": null,
   "metadata": {},
   "outputs": [],
   "source": [
    "fig, ax = plt.subplots(1, 1, figsize=(8, 6))\n",
    "ax.imshow(imgC, cmap=plt.cm.gray)\n",
    "ax.set_axis_off()\n",
    "\n",
    "# Get the coordinates of the boxes.\n",
    "xs = boxes[:, [1, 3]].mean(axis=1)\n",
    "ys = boxes[:, [0, 2]].mean(axis=1)\n",
    "\n",
    "# We reorder the boxes by increasing\n",
    "# column first, and row second.\n",
    "for row in range(4):\n",
    "    # We select the coins in each of the four rows.\n",
    "    if row < 3:\n",
    "        ind = ((ys[6 * row] <= ys) &\n",
    "               (ys < ys[6 * row + 6]))\n",
    "    else:\n",
    "        ind = (ys[6 * row] <= ys)\n",
    "    # We reorder by increasing x coordinate.\n",
    "    ind = np.nonzero(ind)[0]\n",
    "    reordered = ind[np.argsort(xs[ind])]\n",
    "    xs_row = xs[reordered]\n",
    "    ys_row = ys[reordered]\n",
    "    # We display the coin number.\n",
    "    for col in range(6):\n",
    "        n = 6 * row + col\n",
    "        ax.text(xs_row[col] - 5, ys_row[col] + 5,\n",
    "                str(n),\n",
    "                fontsize=20)"
   ]
  },
  {
   "cell_type": "markdown",
   "metadata": {},
   "source": [
    "# Exercício\n",
    "\n",
    "    Crie um novo notebook jupyter cujo nome deve seguir a seguinte syntaxe:\n",
    "    \n",
    "        lab5-SUAMATRICULA.ypnb\n",
    "\n",
    "    Escolha uma imagem em escala de cinza e uma colorida.\n",
    "    Escreva o código para carregar e mostrar a imagem.\n",
    "    Escreva o código e mostre uma segmentação simples usando threshold.\n",
    "    Escreva o código e mostre uma segmentação watershed.\n",
    "    Escreva o código e mostre uma segmentação usando SLIC.\n",
    "    Comente sobre os resultados obtidos com cada um dos métodos e como eles se comparam.\n",
    "        "
   ]
  }
 ],
 "metadata": {
  "kernelspec": {
   "display_name": "Python 3",
   "language": "python",
   "name": "python3"
  },
  "language_info": {
   "codemirror_mode": {
    "name": "ipython",
    "version": 2
   },
   "file_extension": ".py",
   "mimetype": "text/x-python",
   "name": "python",
   "nbconvert_exporter": "python",
   "pygments_lexer": "ipython2",
   "version": "2.7.13"
  }
 },
 "nbformat": 4,
 "nbformat_minor": 2
}

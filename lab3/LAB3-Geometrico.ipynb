{
 "cells": [
  {
   "cell_type": "markdown",
   "metadata": {},
   "source": [
    "# <p style=\"text-align: center;\"> Aula Prática 03</p>\n",
    "\n",
    "## Objetivos desta aula:\n",
    "\n",
    "    - Transformações Geométricas\n",
    "    - Interpolação\n",
    "\n",
    "\n",
    "## Professor: Jefersson dos Santos - jefersson@dcc.ufmg.br\n",
    "### Monitor: Caio Cesar - caiosilva@ufmg.br"
   ]
  },
  {
   "cell_type": "code",
   "execution_count": null,
   "metadata": {
    "collapsed": true
   },
   "outputs": [],
   "source": [
    "from scipy import misc, ndimage\n",
    "import matplotlib.pyplot as plt\n",
    "import numpy as np\n",
    "\n",
    "from skimage import data\n",
    "from skimage import transform as tf\n",
    "import math\n",
    "\n",
    "from __future__ import print_function\n",
    "\n",
    "import skimage\n",
    "from skimage import io, color\n",
    "from skimage.morphology import disk\n",
    "from skimage.morphology import dilation\n",
    "from skimage.morphology import erosion\n",
    "from skimage.morphology import diamond\n",
    "from skimage.morphology import opening\n",
    "from skimage.morphology import closing\n"
   ]
  },
  {
   "cell_type": "code",
   "execution_count": null,
   "metadata": {
    "collapsed": true
   },
   "outputs": [],
   "source": [
    "# Funcao para plotar uma imagem qualquer\n",
    "def show(img):\n",
    "    fig, ax = plt.subplots(1, 1, figsize=(10, 10))\n",
    "    ax.imshow(img, cmap=plt.cm.gray)\n",
    "    ax.set_axis_off()\n",
    "    plt.show()"
   ]
  },
  {
   "cell_type": "markdown",
   "metadata": {},
   "source": [
    "## Abrindo a imagem"
   ]
  },
  {
   "cell_type": "code",
   "execution_count": null,
   "metadata": {
    "scrolled": true
   },
   "outputs": [],
   "source": [
    "face = misc.face(gray=True)\n",
    "plt.imshow(face, cmap='gray')\n",
    "plt.show()"
   ]
  },
  {
   "cell_type": "markdown",
   "metadata": {},
   "source": [
    "# Morfologia"
   ]
  },
  {
   "cell_type": "markdown",
   "metadata": {},
   "source": [
    "## Erosão e Dilatação"
   ]
  },
  {
   "cell_type": "code",
   "execution_count": null,
   "metadata": {
    "scrolled": false
   },
   "outputs": [],
   "source": [
    "image = face\n",
    "image_gray = color.rgb2gray(image)       # Convert the image to grayscale (1 channel)\n",
    "\n",
    "print(\"Original:\")\n",
    "show(image_gray)\n",
    "\n",
    "#out = dilation(image_gray, skimage.morphology.square(3))\n",
    "out = erosion(image_gray, skimage.morphology.square(3))\n",
    "show(out)\n",
    "\n",
    "#out = dilation(image_gray, skimage.morphology.square(7))\n",
    "out = erosion(image_gray, skimage.morphology.square(7))\n",
    "show(out)\n",
    "\n",
    "out = dilation(image_gray, skimage.morphology.disk(7))\n",
    "#out = erosion(image_gray, skimage.morphology.disk(7))\n",
    "show(out)\n",
    "\n",
    "#out = erosion(image_gray, skimage.morphology.diamond(7))\n",
    "out = dilation(image_gray, skimage.morphology.diamond(7))\n",
    "show(out)"
   ]
  },
  {
   "cell_type": "markdown",
   "metadata": {},
   "source": [
    "## Abertura e Fechamento"
   ]
  },
  {
   "cell_type": "code",
   "execution_count": null,
   "metadata": {
    "scrolled": false
   },
   "outputs": [],
   "source": [
    "image = face\n",
    "image_gray = color.rgb2gray(image)       # Convert the image to grayscale (1 channel)\n",
    "\n",
    "print(\"Original:\")\n",
    "show(image_gray)\n",
    "\n",
    "print(\"Abertura:\")\n",
    "#out = dilation(image_gray, skimage.morphology.square(3))\n",
    "out = opening(image_gray, skimage.morphology.square(7))\n",
    "show(out)\n",
    "\n",
    "print(\"Fechamento:\")\n",
    "out = closing(image_gray, skimage.morphology.square(7))\n",
    "show(out)"
   ]
  },
  {
   "cell_type": "markdown",
   "metadata": {},
   "source": [
    "# Transformações Geométricas"
   ]
  },
  {
   "cell_type": "markdown",
   "metadata": {},
   "source": [
    "## Cortando as imagens"
   ]
  },
  {
   "cell_type": "code",
   "execution_count": null,
   "metadata": {},
   "outputs": [],
   "source": [
    "lx, ly = face.shape\n",
    "crop_face = face[lx // 4: - lx // 4, ly // 4: - ly // 4]\n",
    "plt.imshow(crop_face, cmap='gray')\n",
    "plt.show()"
   ]
  },
  {
   "cell_type": "markdown",
   "metadata": {},
   "source": [
    "## Virar Horizontalmente/Verticalmente"
   ]
  },
  {
   "cell_type": "code",
   "execution_count": null,
   "metadata": {},
   "outputs": [],
   "source": [
    "flip_ud_face = np.flipud(face)\n",
    "plt.imshow(flip_ud_face, cmap='gray')\n",
    "plt.show()\n",
    "\n",
    "flip_left_right = np.fliplr(face)\n",
    "plt.imshow(flip_left_right, cmap='gray')\n",
    "plt.show()"
   ]
  },
  {
   "cell_type": "markdown",
   "metadata": {},
   "source": [
    "## Escalonando imagens:"
   ]
  },
  {
   "cell_type": "code",
   "execution_count": null,
   "metadata": {},
   "outputs": [],
   "source": [
    "scaled = misc.imresize(face,10)\n",
    "misc.imsave('face.png', scaled) \n",
    "plt.imshow(scaled, cmap='gray')\n",
    "plt.show()\n",
    "\n",
    "# import matplotlib.pyplot as plt\n",
    "\n",
    "# fig = plt.figure(figsize=(1,8))\n",
    "\n",
    "# img = io.imread('simpsonsG.png')\n",
    "# plt.imshow(img)\n",
    "# plt.show()\n",
    "\n",
    "# import skimage.transform as sk\n",
    "\n",
    "# menor = sk.resize(img, (500,300))\n",
    "# plt.imshow(menor)\n",
    "# plt.show()"
   ]
  },
  {
   "cell_type": "markdown",
   "metadata": {},
   "source": [
    "### Observações:\n",
    "\n",
    "Criando uma figura, plt.figure( ), você pode determinar o tamanho que você quer que a figura tenha, os parâmetros são em largura e comprimento, definindo o primeiro valor já se tem um fator de reescala."
   ]
  },
  {
   "cell_type": "markdown",
   "metadata": {},
   "source": [
    "## Transladando imagens:"
   ]
  },
  {
   "cell_type": "code",
   "execution_count": null,
   "metadata": {},
   "outputs": [],
   "source": [
    "shifted = ndimage.shift(face,[100, 50], cval=255)\n",
    "plt.imshow(shifted, cmap='gray')\n",
    "plt.show()\n",
    "\n",
    "shifted = ndimage.shift(face,[100, 500], cval=0)\n",
    "plt.imshow(shifted, cmap='gray')\n",
    "plt.show()\n",
    "\n",
    "# import matplotlib.pyplot as plt\n",
    "# import matplotlib.image as mpimg\n",
    "# from skimage.transform import AffineTransform, warp\n",
    "\n",
    "# def shift(image, vector):\n",
    "#     transform = AffineTransform(translation=vector)\n",
    "#     shifted = warp(image, transform, mode='constant', preserve_range=True)\n",
    "#     return shifted\n",
    "\n",
    "# img = mpimg.imread('simpsonsG.png')  \n",
    "# imgS = shift(img,[-100, -100])\n",
    "# plt.imshow(imgS)\n",
    "# plt.show()"
   ]
  },
  {
   "cell_type": "markdown",
   "metadata": {},
   "source": [
    "### Observações:\n",
    "\n",
    "A translação é a mudança da localização do objeto. Se você conhece a mudança na direção (x, y), sendo (tx, ty), você pode criar a matriz de transformação M da seguinte maneira:\n",
    "\n",
    "                                        M = [1   0   tx]\n",
    "                                            [0   1   ty]\n",
    "\n",
    "Você pode transformar em uma matriz Numpy do tipo np.float32 e passar para a função AffineTransfrom (). Acima está representado um exemplo para uma mudança de (-100,-100)."
   ]
  },
  {
   "cell_type": "markdown",
   "metadata": {},
   "source": [
    "## Rotacionando imagens:"
   ]
  },
  {
   "cell_type": "code",
   "execution_count": null,
   "metadata": {},
   "outputs": [],
   "source": [
    "image = face\n",
    "\n",
    "show(image)\n",
    "\n",
    "tform = tf.AffineTransform(shear=0.3,scale=(2,2),translation=(-100,-100), rotation=0.2)\n",
    "#tform = tf.AffineTransform(shear=0.017,scale=(2,2),translation=(-100,-100), rotation=0.00)\n",
    "#tform = tf.AffineTransform(shear=0.3,scale=(2,2),translation=(-100,-100), rotation=0.05)\n",
    "\n",
    "print(tform.params)\n",
    "\n",
    "mat = np.array([[1.96013316,-0.95885108,-100.],[0.39733866,1.75516512,-100.],[0.,0.,1.]])\n",
    "sheared = tf.warp(image,mat)\n",
    "# sheared = tf.warp(image,tform)\n",
    "\n",
    "\n",
    "show(sheared)"
   ]
  },
  {
   "cell_type": "code",
   "execution_count": null,
   "metadata": {},
   "outputs": [],
   "source": [
    "rotate_face = ndimage.rotate(face, 45)\n",
    "rotate_face_noreshape = ndimage.rotate(face, 45, reshape=False)\n",
    "plt.imshow(rotate_face, cmap='gray')\n",
    "plt.show()\n",
    "plt.imshow(rotate_face_noreshape, cmap='gray')\n",
    "plt.show()\n",
    "\n",
    "# import matplotlib.pyplot as plt\n",
    "# import matplotlib.image as mpimg\n",
    "# import skimage.transform  as ski\n",
    "\n",
    "\n",
    "# img = io.imread('simpsonsG.png') \n",
    "# imgR = ski.rotate(img,45)\n",
    "# io.imshow(imgR)\n",
    "# io.show()\n"
   ]
  },
  {
   "cell_type": "markdown",
   "metadata": {},
   "source": [
    "### Observações:\n",
    "\n",
    "Existem outras bibliotecas e funções que fazem a rotação da imagem, porem a skimage.transform apresenta uma das formas mais simples. Basta inserir quantos graus você quer que a imagem seja rotacionada como segundo parâmetro da função rotate( )."
   ]
  },
  {
   "cell_type": "markdown",
   "metadata": {},
   "source": [
    "## Perspectiva"
   ]
  },
  {
   "cell_type": "markdown",
   "metadata": {},
   "source": [
    "### Deformação"
   ]
  },
  {
   "cell_type": "code",
   "execution_count": null,
   "metadata": {},
   "outputs": [],
   "source": [
    "text = data.text()\n",
    "\n",
    "tform = tf.SimilarityTransform(scale=1, rotation=math.pi/4,\n",
    "                               translation=(text.shape[0]/2, -100))\n",
    "\n",
    "rotated = tf.warp(text, tform)\n",
    "back_rotated = tf.warp(rotated, tform.inverse)\n",
    "\n",
    "fig, ax = plt.subplots(nrows=3)\n",
    "\n",
    "ax[0].imshow(text, cmap=plt.cm.gray)\n",
    "ax[1].imshow(rotated, cmap=plt.cm.gray)\n",
    "ax[2].imshow(back_rotated, cmap=plt.cm.gray)\n",
    "\n",
    "for a in ax:\n",
    "    a.axis('off')\n",
    "\n",
    "plt.tight_layout()\n",
    "plt.show()"
   ]
  },
  {
   "cell_type": "markdown",
   "metadata": {},
   "source": [
    "### Transformação com perspectiva"
   ]
  },
  {
   "cell_type": "code",
   "execution_count": null,
   "metadata": {},
   "outputs": [],
   "source": [
    "text = data.text()\n",
    "\n",
    "src = np.array([[0, 0], [0, 50], [300, 50], [300, 0]])\n",
    "dst = np.array([[155, 15], [65, 40], [260, 130], [360, 95]])\n",
    "\n",
    "tform3 = tf.ProjectiveTransform()\n",
    "tform3.estimate(src, dst)\n",
    "warped = tf.warp(text, tform3, output_shape=(50, 300))\n",
    "\n",
    "fig, ax = plt.subplots(nrows=2, figsize=(8, 3))\n",
    "\n",
    "ax[0].imshow(text, cmap=plt.cm.gray)\n",
    "ax[0].plot(dst[:, 0], dst[:, 1], '.r')\n",
    "ax[1].imshow(warped, cmap=plt.cm.gray)\n",
    "\n",
    "for a in ax:\n",
    "    a.axis('off')\n",
    "\n",
    "plt.tight_layout()\n",
    "plt.show()"
   ]
  },
  {
   "cell_type": "markdown",
   "metadata": {},
   "source": [
    "# Exercício\n",
    "\n",
    "    Crie um novo notebook jupyter cujo nome deve seguir a seguinte syntaxe:\n",
    "    \n",
    "        lab3-SUAMATRICULA.ypnb\n",
    "\n",
    "    Escolha uma imagem em escala de cinza.\n",
    "    Escreva o código para carregar e mostrar a imagem.\n",
    "    Escreva o código e mostre a imagem com operações de erosão e dilatação em sequência, assim como fechamento e abertura.\n",
    "    Escreva o código e mostre uma das imagens rotacionadas em um ângulo = SUAMATRICULA%360 graus, transladada, escalonada e cortada."
   ]
  }
 ],
 "metadata": {
  "kernelspec": {
   "display_name": "Python 3",
   "language": "python",
   "name": "python3"
  },
  "language_info": {
   "codemirror_mode": {
    "name": "ipython",
    "version": 3
   },
   "file_extension": ".py",
   "mimetype": "text/x-python",
   "name": "python",
   "nbconvert_exporter": "python",
   "pygments_lexer": "ipython3",
   "version": "3.6.4"
  }
 },
 "nbformat": 4,
 "nbformat_minor": 2
}

{
 "cells": [
  {
   "cell_type": "code",
   "execution_count": null,
   "metadata": {},
   "outputs": [],
   "source": [
    "import numpy as np\n",
    "import skimage\n",
    "import matplotlib.pyplot as plt\n",
    "import matplotlib.colors as colors\n",
    "\n",
    "from scipy import fftpack\n",
    "from skimage import io\n",
    "\n",
    "%matplotlib inline\n",
    "\n",
    "def read_transform_plot(path):\n",
    "    \n",
    "    img = read_img(path)\n",
    "\n",
    "    # Transforming.\n",
    "    freq = transform(img)\n",
    "\n",
    "    # Plotting FFT image.\n",
    "    plot_both(img, freq)\n",
    "\n",
    "def read_img(path):\n",
    "    \n",
    "    # Reading image file.\n",
    "    img = io.imread(path).astype(np.float)\n",
    "\n",
    "    # If RGB image, take only the green channel.\n",
    "    if len(img.shape) > 2:\n",
    "\n",
    "        img = img[:,:,1]\n",
    "\n",
    "    return img\n",
    "\n",
    "def transform(img):\n",
    "    \n",
    "    freq = fftpack.fft2(img)\n",
    "    \n",
    "    return freq\n",
    "    \n",
    "def plot_freq(freq, title='Fourier Transform'):\n",
    "    \n",
    "    plt.figure(figsize=(6, 6))\n",
    "    plt.imshow(np.fft.fftshift(np.abs(freq)), norm=colors.LogNorm(vmin=5))\n",
    "    plt.colorbar()\n",
    "    plt.title(title)\n",
    "    plt.show()\n",
    "    \n",
    "def plot_both(img, freq):\n",
    "    \n",
    "    f, (ax1, ax2) = plt.subplots(1, 2, figsize=(16, 8), sharey=True)\n",
    "    \n",
    "    ax1.imshow(img, norm=colors.Normalize())\n",
    "    ax1.set_xticks([])\n",
    "    ax1.set_yticks([])\n",
    "    ax2.imshow(np.fft.fftshift(np.abs(freq)), norm=colors.LogNorm(vmin=5))\n",
    "    ax2.set_xticks([])\n",
    "    ax2.set_yticks([])\n",
    "    \n",
    "    plt.show()\n"
   ]
  },
  {
   "cell_type": "code",
   "execution_count": null,
   "metadata": {},
   "outputs": [],
   "source": [
    "read_transform_plot('images/ball_8.png')"
   ]
  },
  {
   "cell_type": "code",
   "execution_count": null,
   "metadata": {},
   "outputs": [],
   "source": [
    "read_transform_plot('images/ball_20.png')"
   ]
  },
  {
   "cell_type": "code",
   "execution_count": null,
   "metadata": {},
   "outputs": [],
   "source": [
    "read_transform_plot('images/ball_100.png')"
   ]
  },
  {
   "cell_type": "code",
   "execution_count": null,
   "metadata": {},
   "outputs": [],
   "source": [
    "ball008 = read_img('images/ball_8.png')\n",
    "ball020 = read_img('images/ball_20.png')\n",
    "ball100 = read_img('images/ball_100.png')\n",
    "\n",
    "result = ball100 - ball020 + ball008\n",
    "freq = transform(result)\n",
    "\n",
    "plot_both(result, freq)"
   ]
  },
  {
   "cell_type": "code",
   "execution_count": null,
   "metadata": {},
   "outputs": [],
   "source": [
    "read_transform_plot('images/rectangle_10.png')"
   ]
  },
  {
   "cell_type": "code",
   "execution_count": null,
   "metadata": {},
   "outputs": [],
   "source": [
    "read_transform_plot('images/rectangle_40.png')"
   ]
  },
  {
   "cell_type": "code",
   "execution_count": null,
   "metadata": {},
   "outputs": [],
   "source": [
    "read_transform_plot('images/rectangle_150.png')"
   ]
  },
  {
   "cell_type": "code",
   "execution_count": null,
   "metadata": {},
   "outputs": [],
   "source": [
    "read_transform_plot('images/ticks_10.png')"
   ]
  },
  {
   "cell_type": "code",
   "execution_count": null,
   "metadata": {},
   "outputs": [],
   "source": [
    "read_transform_plot('images/v_strip_10.png')"
   ]
  },
  {
   "cell_type": "code",
   "execution_count": null,
   "metadata": {},
   "outputs": [],
   "source": [
    "read_transform_plot('images/v_strip_30.png')"
   ]
  },
  {
   "cell_type": "code",
   "execution_count": null,
   "metadata": {},
   "outputs": [],
   "source": [
    "read_transform_plot('images/3_v_strip_30.png')"
   ]
  },
  {
   "cell_type": "code",
   "execution_count": null,
   "metadata": {},
   "outputs": [],
   "source": [
    "read_transform_plot('images/tutankamon.jpg')"
   ]
  },
  {
   "cell_type": "code",
   "execution_count": null,
   "metadata": {},
   "outputs": [],
   "source": [
    "from skimage import io\n",
    "\n",
    "img = io.imread('images/moonlanding.png')\n",
    "msk = io.imread('images/moonlanding_mask.png')\n",
    "\n",
    "if len(msk.shape) > 2:\n",
    "\n",
    "    msk = msk[:,:,0]\n",
    "\n",
    "if len(img.shape) > 2:\n",
    "\n",
    "    img = img[:,:,0]\n",
    "\n",
    "msk[msk != 0] = 1\n",
    "\n",
    "freq = fftpack.fft2(img) # Forward transform.\n",
    "shifted = np.fft.fftshift(freq) # Forward shift.\n",
    "filtered = shifted * msk # Filtering by mask.\n",
    "unshifted = np.fft.ifftshift(filtered) # Inverse shift.\n",
    "recovered = fftpack.ifft2(unshifted) # Inverse transform.\n",
    "\n",
    "f, ax1 = plt.subplots(1, 1, figsize=(8, 8), sharey=True)\n",
    "ax1.imshow(img)\n",
    "ax1.set_xticks([])\n",
    "ax1.set_yticks([])\n",
    "plt.show()\n",
    "f, ax1 = plt.subplots(1, 1, figsize=(8, 8), sharey=True)\n",
    "ax1.imshow(np.abs(shifted), norm=colors.LogNorm(vmin=5))\n",
    "ax1.set_xticks([])\n",
    "ax1.set_yticks([])\n",
    "plt.show()\n",
    "f, ax1 = plt.subplots(1, 1, figsize=(8, 8), sharey=True)\n",
    "ax1.imshow(np.abs(filtered), norm=colors.LogNorm(vmin=5))\n",
    "ax1.set_xticks([])\n",
    "ax1.set_yticks([])\n",
    "plt.show()\n",
    "f, ax1 = plt.subplots(1, 1, figsize=(8, 8), sharey=True)\n",
    "ax1.imshow(recovered.astype(np.float), norm=colors.Normalize())\n",
    "ax1.set_xticks([])\n",
    "ax1.set_yticks([])\n",
    "plt.show()\n",
    "\n",
    "out = recovered.astype(np.float)\n",
    "out = (out - out.min()) / (out.max() - out.min())\n",
    "io.imsave('images/moonlanding_recovered.png', out)"
   ]
  },
  {
   "cell_type": "code",
   "execution_count": null,
   "metadata": {},
   "outputs": [],
   "source": []
  }
 ],
 "metadata": {
  "kernelspec": {
   "display_name": "Python 2",
   "language": "python",
   "name": "python2"
  },
  "language_info": {
   "codemirror_mode": {
    "name": "ipython",
    "version": 2
   },
   "file_extension": ".py",
   "mimetype": "text/x-python",
   "name": "python",
   "nbconvert_exporter": "python",
   "pygments_lexer": "ipython2",
   "version": "2.7.14"
  }
 },
 "nbformat": 4,
 "nbformat_minor": 2
}

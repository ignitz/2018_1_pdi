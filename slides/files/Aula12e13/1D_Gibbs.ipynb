{
 "cells": [
  {
   "cell_type": "code",
   "execution_count": null,
   "metadata": {
    "scrolled": false
   },
   "outputs": [],
   "source": [
    "import numpy as np\n",
    "import matplotlib.pyplot as plt\n",
    "\n",
    "from scipy import fftpack\n",
    "from scipy.ndimage import filters\n",
    "\n",
    "%matplotlib inline"
   ]
  },
  {
   "cell_type": "code",
   "execution_count": null,
   "metadata": {
    "scrolled": false
   },
   "outputs": [],
   "source": [
    "# Creating signal.\n",
    "n_samples = 1000\n",
    "\n",
    "signal = np.zeros((n_samples), dtype=np.float)\n",
    "\n",
    "# Creating discontinuity on signal.\n",
    "signal[int(0.4 * n_samples):int(0.8 * n_samples)] = 1\n",
    "\n",
    "# Computing FFT\n",
    "freq = fftpack.fft(signal)\n",
    "\n",
    "# Plotting original frequency spectrum.\n",
    "f, ax1 = plt.subplots(1, 1, figsize=(16, 4))\n",
    "\n",
    "ax1.plot(np.abs(np.fft.fftshift(freq)))\n",
    "ax1.set_title('Original frequency spectrum')\n",
    "plt.show()\n",
    "\n",
    "thresholds = [1, 5, 20, 100, 490, 500]\n",
    "\n",
    "for freq_threshold in thresholds:\n",
    "\n",
    "    print('############################################################################################')\n",
    "    print('############################################################################################')\n",
    "    \n",
    "    # Filtering\n",
    "    mask = np.ones(freq.shape, dtype=np.float)\n",
    "    mask[freq_threshold:-freq_threshold] = 0\n",
    "    \n",
    "    # Mitigating Gibbs Phenomenon.\n",
    "    mask = filters.gaussian_filter1d(mask, sigma=10)\n",
    "    \n",
    "    filtered = freq * mask\n",
    "\n",
    "    # Computing reconstruction.\n",
    "    reconstructed = fftpack.ifft(filtered)\n",
    "\n",
    "    # Plotting quantized frequency spectrum.\n",
    "    f, (ax1, ax2) = plt.subplots(2, 1, figsize=(16, 8))\n",
    "\n",
    "    ax1.plot(np.abs(np.fft.fftshift(mask)))\n",
    "    ax1.set_title('Quantization mask')\n",
    "    \n",
    "    ax2.plot(np.abs(np.fft.fftshift(filtered)))\n",
    "    ax2.set_title('Quantized frequency spectrum preserving ' + str(2 * freq_threshold) + ' components')\n",
    "    \n",
    "    plt.show()\n",
    "\n",
    "    # Plotting Reconstruction.\n",
    "    f, (ax1, ax2) = plt.subplots(1, 2, figsize=(16, 4))\n",
    "\n",
    "    ax1.plot(signal)\n",
    "    ax1.set_title('Original signal')\n",
    "    ax2.plot(reconstructed)\n",
    "    ax2.set_title('Reconstructed signal')\n",
    "    plt.show()"
   ]
  },
  {
   "cell_type": "code",
   "execution_count": null,
   "metadata": {},
   "outputs": [],
   "source": []
  }
 ],
 "metadata": {
  "kernelspec": {
   "display_name": "Python 2",
   "language": "python",
   "name": "python2"
  },
  "language_info": {
   "codemirror_mode": {
    "name": "ipython",
    "version": 2
   },
   "file_extension": ".py",
   "mimetype": "text/x-python",
   "name": "python",
   "nbconvert_exporter": "python",
   "pygments_lexer": "ipython2",
   "version": "2.7.14"
  }
 },
 "nbformat": 4,
 "nbformat_minor": 2
}

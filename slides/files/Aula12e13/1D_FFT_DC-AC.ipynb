{
 "cells": [
  {
   "cell_type": "code",
   "execution_count": null,
   "metadata": {},
   "outputs": [],
   "source": [
    "import math\n",
    "\n",
    "import numpy as np\n",
    "import matplotlib.pyplot as plt\n",
    "\n",
    "from scipy import fftpack\n",
    "\n",
    "from wfdb import io\n",
    "from wfdb import plot\n",
    "\n",
    "%matplotlib inline\n",
    "\n",
    "header = io.rdrecord('signals/100')\n",
    "\n",
    "plt.plot(header.p_signal[:, 0])\n",
    "plt.show()\n",
    "\n",
    "plt.plot(header.p_signal[1:1000, 0])\n",
    "plt.show()"
   ]
  },
  {
   "cell_type": "code",
   "execution_count": null,
   "metadata": {},
   "outputs": [],
   "source": [
    "freq = fftpack.fft(header.p_signal[:, 0])\n",
    "\n",
    "plt.plot(freq)\n",
    "plt.show()"
   ]
  },
  {
   "cell_type": "code",
   "execution_count": null,
   "metadata": {},
   "outputs": [],
   "source": [
    "no_dc = freq.copy()\n",
    "no_dc[0] = no_dc[0] * 0\n",
    "\n",
    "recovered = fftpack.ifft(no_dc)\n",
    "\n",
    "plt.plot(header.p_signal[:, 0])\n",
    "plt.show()\n",
    "plt.plot(recovered.astype(np.float))\n",
    "plt.show()"
   ]
  },
  {
   "cell_type": "code",
   "execution_count": null,
   "metadata": {},
   "outputs": [],
   "source": [
    "print('Valor médio antes da remoção do componente DC: ' + str(header.p_signal[:, 0].mean()))\n",
    "print('Valor médio após a remoção do componente DC: ' + str(recovered.astype(np.float).mean()))"
   ]
  },
  {
   "cell_type": "code",
   "execution_count": null,
   "metadata": {},
   "outputs": [],
   "source": [
    "plt.plot(header.p_signal[0:1000, 0])\n",
    "plt.show()\n",
    "plt.plot(recovered.astype(np.float)[0:1000])\n",
    "plt.show()"
   ]
  },
  {
   "cell_type": "code",
   "execution_count": null,
   "metadata": {},
   "outputs": [],
   "source": []
  }
 ],
 "metadata": {
  "kernelspec": {
   "display_name": "Python 2",
   "language": "python",
   "name": "python2"
  },
  "language_info": {
   "codemirror_mode": {
    "name": "ipython",
    "version": 2
   },
   "file_extension": ".py",
   "mimetype": "text/x-python",
   "name": "python",
   "nbconvert_exporter": "python",
   "pygments_lexer": "ipython2",
   "version": "2.7.14"
  }
 },
 "nbformat": 4,
 "nbformat_minor": 2
}

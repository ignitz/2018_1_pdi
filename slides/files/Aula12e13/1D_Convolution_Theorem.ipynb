{
 "cells": [
  {
   "cell_type": "code",
   "execution_count": null,
   "metadata": {
    "scrolled": false
   },
   "outputs": [],
   "source": [
    "import numpy as np\n",
    "import scipy\n",
    "import matplotlib.pyplot as plt\n",
    "\n",
    "###########################################################################################\n",
    "# Adapted from: <https://pythonexample.com/snippet/convolution-theorempy_binary10_python> #\n",
    "###########################################################################################\n",
    "\n",
    "# Initialize a signal.\n",
    "signal = np.random.randint(0, 255, 2**5) # 32 values.\n",
    "kernel = np.random.randint(0, 255, 2**3) # 8 values.\n",
    "\n",
    "# Convolve signal with kernel.\n",
    "conv = scipy.convolve(signal, kernel)\n",
    "\n",
    "# Plotting.\n",
    "f, (ax1, ax2) = plt.subplots(1, 2, figsize=(16, 8), sharey=True)\n",
    "\n",
    "ax1.plot(signal)\n",
    "ax1.set_title('signal')\n",
    "ax2.plot(kernel)\n",
    "ax2.set_title('kernel')\n",
    "\n",
    "plt.show()\n",
    "\n",
    "# Plotting.\n",
    "f, ax1 = plt.subplots(1, 1, figsize=(8, 8), sharey=True)\n",
    "\n",
    "ax1.plot(conv)\n",
    "ax1.set_title('Spatial Convolution')\n",
    "\n",
    "plt.show()"
   ]
  },
  {
   "cell_type": "code",
   "execution_count": null,
   "metadata": {
    "scrolled": false
   },
   "outputs": [],
   "source": [
    "# Copy and pad signal and kernel.\n",
    "signal_pad = signal.copy()\n",
    "signal_pad.resize(len(conv), refcheck=False)\n",
    "\n",
    "kernel_pad = kernel.copy()\n",
    "kernel_pad.resize(len(conv), refcheck=False)\n",
    "\n",
    "# Plotting.\n",
    "f, (ax1, ax2) = plt.subplots(1, 2, figsize=(16, 8), sharey=True)\n",
    "\n",
    "ax1.plot(signal_pad)\n",
    "ax1.set_title('padded signal')\n",
    "ax2.plot(kernel_pad)\n",
    "ax2.set_title('padded kernel')\n",
    "\n",
    "plt.show()"
   ]
  },
  {
   "cell_type": "code",
   "execution_count": null,
   "metadata": {
    "scrolled": false
   },
   "outputs": [],
   "source": [
    "# Compute FFT.\n",
    "f_signal = scipy.fft(signal_pad)\n",
    "f_kernel = scipy.fft(kernel_pad)\n",
    "\n",
    "# Plotting.\n",
    "f, (ax1, ax2) = plt.subplots(1, 2, figsize=(16, 8), sharey=True)\n",
    "\n",
    "ax1.plot(f_signal)\n",
    "ax1.set_title('freq signal')\n",
    "ax2.plot(f_kernel)\n",
    "ax2.set_title('freq kernel')\n",
    "\n",
    "plt.show()"
   ]
  },
  {
   "cell_type": "code",
   "execution_count": null,
   "metadata": {
    "scrolled": false
   },
   "outputs": [],
   "source": [
    "# Inverse FFT of frequency signal.\n",
    "f_conv = scipy.ifft(f_signal * f_kernel)\n",
    "\n",
    "# Plotting.\n",
    "f, (ax1, ax2) = plt.subplots(1, 2, figsize=(16, 8), sharey=True)\n",
    "\n",
    "ax1.plot(conv)\n",
    "ax1.set_title('Spatial Convolution')\n",
    "ax2.plot(f_conv)\n",
    "ax2.set_title('Frequency Convolution')\n",
    "\n",
    "plt.show()\n",
    "\n",
    "plt.plot(conv - f_conv)\n",
    "plt.show()"
   ]
  },
  {
   "cell_type": "code",
   "execution_count": null,
   "metadata": {},
   "outputs": [],
   "source": []
  }
 ],
 "metadata": {
  "kernelspec": {
   "display_name": "Python 2",
   "language": "python",
   "name": "python2"
  },
  "language_info": {
   "codemirror_mode": {
    "name": "ipython",
    "version": 2
   },
   "file_extension": ".py",
   "mimetype": "text/x-python",
   "name": "python",
   "nbconvert_exporter": "python",
   "pygments_lexer": "ipython2",
   "version": "2.7.14"
  }
 },
 "nbformat": 4,
 "nbformat_minor": 2
}

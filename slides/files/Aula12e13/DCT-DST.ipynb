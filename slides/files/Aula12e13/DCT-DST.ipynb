{
 "cells": [
  {
   "cell_type": "code",
   "execution_count": null,
   "metadata": {
    "scrolled": false
   },
   "outputs": [],
   "source": [
    "import numpy as np\n",
    "import scipy\n",
    "import matplotlib.pyplot as plt\n",
    "\n",
    "from skimage import io\n",
    "from scipy import signal\n",
    "from scipy import fftpack"
   ]
  },
  {
   "cell_type": "code",
   "execution_count": null,
   "metadata": {
    "scrolled": false
   },
   "outputs": [],
   "source": [
    "# Reading image and initiating kernel.\n",
    "img = io.imread('images/mnist_sample_5.png')\n",
    "limits = [[-1, -1], [16, 16], [8, 8], [4, 4], [2, 2], [1, 1]]\n",
    "\n",
    "if len(img.shape) > 2:\n",
    "    \n",
    "    img = img[:, :, 1]\n",
    "\n",
    "\n",
    "for limit in limits:\n",
    "    \n",
    "    # Forward DCT of spatial signal.\n",
    "    freq = np.apply_along_axis(fftpack.dct, 0, img, norm='ortho')\n",
    "    freq = np.apply_along_axis(fftpack.dct, 1, freq, norm='ortho')\n",
    "    \n",
    "    if limit[0] != -1:\n",
    "        freq[limit[0]:, :] = 0\n",
    "    if limit[1] != -1:\n",
    "        freq[:, limit[1]:] = 0\n",
    "\n",
    "    # Inverse DCT of frequency signal.\n",
    "    rev = np.apply_along_axis(fftpack.idct, 0, freq, norm='ortho')\n",
    "    rev = np.apply_along_axis(fftpack.idct, 1, rev, norm='ortho')\n",
    "\n",
    "    # Plotting.\n",
    "    f, (ax1, ax2, ax3) = plt.subplots(1, 3, figsize=(16, 8))\n",
    "\n",
    "    ax1.imshow(img)\n",
    "    ax1.set_title('DCT Image')\n",
    "    ax1.set_xticks([])\n",
    "    ax1.set_yticks([])\n",
    "    ax2.imshow(freq)\n",
    "    ax2.set_title('DCT Frequency: first ' + str(limit[0]) + ' frequencies')\n",
    "    ax2.set_xticks([])\n",
    "    ax2.set_yticks([])\n",
    "    ax3.imshow(rev)\n",
    "    ax3.set_title('DCT Reconstructed: first ' + str(limit[0]) + ' frequencies')\n",
    "    ax3.set_xticks([])\n",
    "    ax3.set_yticks([])\n",
    "\n",
    "    plt.show()\n",
    "    \n",
    "    \n",
    "    # Forward DST of spatial signal.\n",
    "    freq = np.apply_along_axis(fftpack.dst, 0, img, norm='ortho')\n",
    "    freq = np.apply_along_axis(fftpack.dst, 1, freq, norm='ortho')\n",
    "    \n",
    "    if limit[0] != -1:\n",
    "        freq[limit[0]:, :] = 0\n",
    "    if limit[1] != -1:\n",
    "        freq[:, limit[1]:] = 0\n",
    "\n",
    "    # Inverse DST of frequency signal.\n",
    "    rev = np.apply_along_axis(fftpack.idst, 0, freq, norm='ortho')\n",
    "    rev = np.apply_along_axis(fftpack.idst, 1, rev, norm='ortho')\n",
    "\n",
    "    # Plotting.\n",
    "    f, (ax1, ax2, ax3) = plt.subplots(1, 3, figsize=(16, 8))\n",
    "\n",
    "    ax1.imshow(img)\n",
    "    ax1.set_title('DST Image')\n",
    "    ax1.set_xticks([])\n",
    "    ax1.set_yticks([])\n",
    "    ax2.imshow(freq)\n",
    "    ax2.set_title('DST Frequency: first ' + str(limit[0]) + ' frequencies')\n",
    "    ax2.set_xticks([])\n",
    "    ax2.set_yticks([])\n",
    "    ax3.imshow(rev)\n",
    "    ax3.set_title('DST Reconstructed: first ' + str(limit[0]) + ' frequencies')\n",
    "    ax3.set_xticks([])\n",
    "    ax3.set_yticks([])\n",
    "\n",
    "    plt.show()"
   ]
  },
  {
   "cell_type": "markdown",
   "metadata": {
    "collapsed": true
   },
   "source": []
  }
 ],
 "metadata": {
  "kernelspec": {
   "display_name": "Python 2",
   "language": "python",
   "name": "python2"
  },
  "language_info": {
   "codemirror_mode": {
    "name": "ipython",
    "version": 2
   },
   "file_extension": ".py",
   "mimetype": "text/x-python",
   "name": "python",
   "nbconvert_exporter": "python",
   "pygments_lexer": "ipython2",
   "version": "2.7.14"
  }
 },
 "nbformat": 4,
 "nbformat_minor": 2
}

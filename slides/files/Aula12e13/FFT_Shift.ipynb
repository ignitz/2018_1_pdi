{
 "cells": [
  {
   "cell_type": "code",
   "execution_count": null,
   "metadata": {},
   "outputs": [],
   "source": [
    "import numpy as np\n",
    "import scipy\n",
    "import matplotlib.pyplot as plt\n",
    "import matplotlib.colors as colors\n",
    "\n",
    "from skimage import io\n",
    "from scipy import signal\n",
    "from scipy import fftpack\n",
    "\n",
    "img = io.imread('images/lena.png')\n",
    "# img = io.imread('images/square.png')\n",
    "\n",
    "if len(img.shape) > 2:\n",
    "\n",
    "    img = img[:,:,0]\n",
    "\n",
    "freq = fftpack.fft2(img) # Forward transform.\n",
    "shifted = np.fft.fftshift(freq) # FFT Shift.\n",
    "\n",
    "f, ((ax1, ax2), (ax3, ax4), (ax5, ax6)) = plt.subplots(3, 2, figsize=(16, 24), sharey=True)\n",
    "ax1.imshow(img)\n",
    "ax1.set_title('Image')\n",
    "ax1.set_xticks([])\n",
    "ax1.set_yticks([])\n",
    "ax2.imshow(np.abs(np.real(freq)), norm=colors.Normalize())\n",
    "ax2.set_title('Frequency')\n",
    "ax2.set_xticks([])\n",
    "ax2.set_yticks([])\n",
    "ax3.imshow(np.abs(np.real(shifted)), norm=colors.Normalize())\n",
    "ax3.set_title('Real Shifted')\n",
    "ax3.set_xticks([])\n",
    "ax3.set_yticks([])\n",
    "ax4.imshow(np.abs(np.real(shifted)), norm=colors.LogNorm(vmin=5))\n",
    "ax4.set_title('Real Shifted Log')\n",
    "ax4.set_xticks([])\n",
    "ax4.set_yticks([])\n",
    "ax5.imshow(np.abs(np.imag(shifted)), norm=colors.Normalize())\n",
    "ax5.set_title('Imaginary Shifted')\n",
    "ax5.set_xticks([])\n",
    "ax5.set_yticks([])\n",
    "ax6.imshow(np.abs(np.imag(shifted)), norm=colors.LogNorm(vmin=5))\n",
    "ax6.set_title('Imaginary Shifted Log')\n",
    "ax6.set_xticks([])\n",
    "ax6.set_yticks([])\n",
    "plt.show()"
   ]
  },
  {
   "cell_type": "code",
   "execution_count": null,
   "metadata": {},
   "outputs": [],
   "source": []
  }
 ],
 "metadata": {
  "kernelspec": {
   "display_name": "Python 2",
   "language": "python",
   "name": "python2"
  },
  "language_info": {
   "codemirror_mode": {
    "name": "ipython",
    "version": 2
   },
   "file_extension": ".py",
   "mimetype": "text/x-python",
   "name": "python",
   "nbconvert_exporter": "python",
   "pygments_lexer": "ipython2",
   "version": "2.7.14"
  }
 },
 "nbformat": 4,
 "nbformat_minor": 2
}

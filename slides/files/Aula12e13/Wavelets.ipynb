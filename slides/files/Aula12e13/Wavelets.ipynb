{
 "cells": [
  {
   "cell_type": "code",
   "execution_count": null,
   "metadata": {},
   "outputs": [],
   "source": [
    "import numpy as np\n",
    "import pywt\n",
    "import matplotlib.pyplot as plt\n",
    "import matplotlib.gridspec as gridspec\n",
    "\n",
    "from skimage import io\n",
    "\n",
    "%matplotlib inline\n",
    "\n",
    "def read_img(path):\n",
    "\n",
    "    # Reading image file.\n",
    "    img = io.imread(path).astype(np.float)\n",
    "\n",
    "    # If RGB image, take only the green channel.\n",
    "    if len(img.shape) > 2:\n",
    "\n",
    "        img = img[:,:,1]\n",
    "\n",
    "    return img\n",
    "\n",
    "def print_iters(LL, n_iters, base='db1'):\n",
    "\n",
    "    size = 16\n",
    "    curr_size = size\n",
    "\n",
    "    plt.figure(0, figsize=(size, size))\n",
    "\n",
    "    # Wavelet iterations.\n",
    "    for i in range(n_iters):\n",
    "\n",
    "        curr_size = curr_size / 2\n",
    "\n",
    "        LL, (LH, HL, HH) = pywt.dwt2(LL, wavelet=base, mode='symmetric')\n",
    "\n",
    "        axis_hh = plt.subplot2grid((size, size), (curr_size, curr_size), colspan=curr_size, rowspan=curr_size)\n",
    "        axis_hh.imshow(HH, cmap=plt.cm.gray)\n",
    "        axis_hh.set_xticks([])\n",
    "        axis_hh.set_yticks([])\n",
    "        axis_hl = plt.subplot2grid((size, size), (0, curr_size), colspan=curr_size, rowspan=curr_size)\n",
    "        axis_hl.imshow(HL, cmap=plt.cm.gray)\n",
    "        axis_hl.set_xticks([])\n",
    "        axis_hl.set_yticks([])\n",
    "        axis_lh = plt.subplot2grid((size, size), (curr_size, 0), colspan=curr_size, rowspan=curr_size)\n",
    "        axis_lh.imshow(LH, cmap=plt.cm.gray)\n",
    "        axis_lh.set_xticks([])\n",
    "        axis_lh.set_yticks([])\n",
    "\n",
    "    axis_ll = plt.subplot2grid((size, size), (0, 0), colspan=curr_size, rowspan=curr_size)\n",
    "    axis_ll.imshow(LL, cmap=plt.cm.gray)\n",
    "    axis_ll.set_xticks([])\n",
    "    axis_ll.set_yticks([])\n",
    "\n",
    "    plt.show()"
   ]
  },
  {
   "cell_type": "code",
   "execution_count": null,
   "metadata": {},
   "outputs": [],
   "source": [
    "img = read_img('images/ball_100.png')\n",
    "\n",
    "print_iters(img, 1)"
   ]
  },
  {
   "cell_type": "code",
   "execution_count": null,
   "metadata": {
    "scrolled": false
   },
   "outputs": [],
   "source": [
    "img = read_img('images/ball_100.png')\n",
    "\n",
    "print_iters(img, 2)"
   ]
  },
  {
   "cell_type": "code",
   "execution_count": null,
   "metadata": {},
   "outputs": [],
   "source": [
    "img = read_img('images/ball_100.png')\n",
    "\n",
    "print_iters(img, 3)"
   ]
  },
  {
   "cell_type": "code",
   "execution_count": null,
   "metadata": {},
   "outputs": [],
   "source": [
    "img = read_img('images/ball_100.png')\n",
    "\n",
    "print_iters(img, 4)"
   ]
  },
  {
   "cell_type": "code",
   "execution_count": null,
   "metadata": {},
   "outputs": [],
   "source": [
    "img = read_img('images/wavelet_demonstration.png')\n",
    "\n",
    "print(pywt.families(short=False))\n",
    "print(pywt.wavelist('bior'))\n",
    "\n",
    "print_iters(img, 2, base = 'haar')"
   ]
  },
  {
   "cell_type": "code",
   "execution_count": null,
   "metadata": {},
   "outputs": [],
   "source": [
    "img = read_img('images/zebra.jpg')\n",
    "\n",
    "print_iters(img, 4)"
   ]
  },
  {
   "cell_type": "code",
   "execution_count": null,
   "metadata": {},
   "outputs": [],
   "source": [
    "img = read_img('images/lichtenstein.png')\n",
    "\n",
    "print_iters(img, 3)"
   ]
  }
 ],
 "metadata": {
  "kernelspec": {
   "display_name": "Python 2",
   "language": "python",
   "name": "python2"
  },
  "language_info": {
   "codemirror_mode": {
    "name": "ipython",
    "version": 2
   },
   "file_extension": ".py",
   "mimetype": "text/x-python",
   "name": "python",
   "nbconvert_exporter": "python",
   "pygments_lexer": "ipython2",
   "version": "2.7.14"
  }
 },
 "nbformat": 4,
 "nbformat_minor": 2
}

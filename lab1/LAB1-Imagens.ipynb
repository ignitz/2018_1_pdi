{
 "cells": [
  {
   "cell_type": "markdown",
   "metadata": {},
   "source": [
    "# <p style=\"text-align: center;\"> Aula Prática 01</p>\n",
    "\n",
    "## Objetivos desta aula:\n",
    "\n",
    "    - Introdução ao ambiente de programação (Jupyter / Python)\n",
    "    - Fundamentos de PDI (Imagens e histogramas)\n",
    "    - Apresentação do TP1\n",
    "\n",
    "\n",
    "## Professor: Jefersson dos Santos - jefersson@dcc.ufmg.br\n",
    "### Monitor: Caio Cesar - caiosilva@ufmg.br"
   ]
  },
  {
   "cell_type": "markdown",
   "metadata": {},
   "source": [
    "# Introdução ao ambiente de programação (Jupyter / Python)\n",
    "\n",
    "## Jupyter:\n",
    "\n",
    "Em primeiro lugar, o Jupyter Notebook é um ambiente interativo para escrever e executar o código. O notebook é capaz de executar código em uma ampla gama de idiomas. No entanto, cada notebook está associado a um único kernel. Este caderno está associado ao kernel do IPython, pois executa o código Python.\n",
    "\n",
    "Como um aplicativo da Web em que você pode criar e compartilhar documentos que contenham código, equações, visualizações e texto, o Jupyter Notebook é uma das ferramentas ideais para ajudá-lo a documentar e compartilhar códigos e projetos.\n",
    "\n",
    "Os \"notebook\" ou \"notebook documents\" indicam documentos que contêm elementos de código e de texto rico, como figuras, links, equações. Por causa da combinação de elementos de código e texto, esses documentos são o lugar ideal para reunir uma descrição de análise e seus resultados, bem como eles podem ser executados, executem a análise de dados em tempo real. Esses documentos são produzidos pelo aplicativo Jupyter Notebook.\n",
    "\n",
    "Como um aplicativo servidor-cliente, o aplicativo Notebook Jupyter permite que você edite e execute seus cadernos por meio de um navegador da Web. O aplicativo pode ser executado em um PC sem acesso à Internet ou pode ser instalado em um servidor remoto, onde você pode acessá-lo através da Internet.\n",
    "\n",
    "Para mais detalhes: https://www.youtube.com/watch?v=HW29067qVWk\n",
    "\n",
    "\n",
    "\n",
    "\n",
    "## Python: \n",
    "\n",
    "\n",
    "Python é uma linguagem poderosa e divertida. Com ela você pode fazer diversas coisas como:\n",
    "\n",
    "   - Construção de sistemas Web com Django, Flask, Pyramid, etc.\n",
    "   - Análise de dados, Inteligência Artificial, Machine Learning e etc com Numpy, Pandas, Matplotlib, etc\n",
    "   - Construção de aplicativos com Kivy e Pybee\n",
    "   - Construção de sistemas desktop com Tkinter, WxPython, etc.\n",
    "   \n",
    "Para mais detalhes: \n",
    "\n",
    "https://www.youtube.com/watch?v=LN8ejPwSzkU   \n",
    "\n",
    "https://nbviewer.jupyter.org/github/jrjohansson/scientific-python-lectures/blob/master/Lecture-1-Introduction-to-Python-Programming.ipynb\n",
    "   \n"
   ]
  },
  {
   "cell_type": "markdown",
   "metadata": {},
   "source": [
    "### Lista básica de comandos Python"
   ]
  },
  {
   "cell_type": "code",
   "execution_count": null,
   "metadata": {
    "collapsed": true
   },
   "outputs": [],
   "source": [
    "print             # Imprime uma palavra ou frase.\n",
    "#                 # Serve para colocar comentários em apenas uma linha.\n",
    "%                 # Serve para indicar a variavel.\n",
    "%s                # Armazena o valor tipo string na variavel.\n",
    "%d                # Armazena um valor tipo numérico na variável.\n",
    "%r                # Armazena um valor de qualquer tipo na variável.\n",
    "\\t                # Quebra de linha.\n",
    "input             # Anexa a uma variável o valor informado pelo usuário.\n",
    "raw_input         # Anexa um txt a uma variável.\n",
    "if                # Argumento condicional que significa \"se\".\n",
    "if not            # Argumento condicional que significa \"se não\".\n",
    "else              # Argumento condicional que significa \"então\".\n",
    "\n",
    "from              # Define onde será importado o arquivo.\n",
    "import            # Importa arquivos do sistema.\n",
    "argv              # Importa arquivos do sistema.\n",
    "script            # Se refere ao arquivo que está sendo criado em python.\n",
    "prompt            # Insere um valor e pede para que o usuário informe um valor.\n",
    "open              # Abre um arquivo do sistema.\n",
    ".read()           # Faz a leitura do arquivo.\n",
    ".truncate()       # Finaliza o arquivo aberto.\n",
    ".write(line 1)    # Armazena o que foi digitado pelo usuario.\n",
    ".close()          # Fecha o programa.\n",
    "len(indata)       # Verifica a velocidade de transmissão do arquivo.\n",
    "def               # Define uma função.\n",
    ".seek()           # Define a posição do arquivo."
   ]
  },
  {
   "cell_type": "markdown",
   "metadata": {},
   "source": [
    "### Code cells permitem que você insira e execute código"
   ]
  },
  {
   "cell_type": "markdown",
   "metadata": {},
   "source": [
    "Execute uma célula de código usando `Shift-Enter` ou pressionando o <button class='btn btn-default btn-xs'><i class=\"icon-step-forward fa fa-step-forward\"></i></button> na barra de ferramentas acima:"
   ]
  },
  {
   "cell_type": "code",
   "execution_count": null,
   "metadata": {
    "collapsed": true
   },
   "outputs": [],
   "source": [
    "a = 10"
   ]
  },
  {
   "cell_type": "code",
   "execution_count": null,
   "metadata": {},
   "outputs": [],
   "source": [
    "print(a)"
   ]
  },
  {
   "cell_type": "markdown",
   "metadata": {},
   "source": [
    "Há dois outros atalhos de teclado para executar o código:\n",
    "\n",
    "* `Alt-Enter` executa a célula atual e insere uma nova abaixo.\n",
    "* `Ctrl-Enter` executa a célula atual e entra no modo de comando."
   ]
  },
  {
   "cell_type": "markdown",
   "metadata": {},
   "source": [
    "### Gerenciando o Kernel"
   ]
  },
  {
   "cell_type": "markdown",
   "metadata": {},
   "source": [
    "O código é executado em um processo separado chamado Kernel. O Kernel pode ser interrompido ou reiniciado. Tente executar a seguinte célula e, em seguida, pressione o <button class='btn btn-default btn-xs'><i class='icon-stop fa fa-stop'></i></button> na barra de ferramentas acima."
   ]
  },
  {
   "cell_type": "code",
   "execution_count": null,
   "metadata": {
    "collapsed": true
   },
   "outputs": [],
   "source": [
    "import time\n",
    "time.sleep(10)"
   ]
  },
  {
   "cell_type": "markdown",
   "metadata": {},
   "source": [
    "Se o Kernel morrer, você será solicitado a reiniciá-lo. Aqui chamamos a rotina de nível de sistema libc.time com o argumento errado via\n",
    "Ctypes para segfault o intérprete de Python:"
   ]
  },
  {
   "cell_type": "code",
   "execution_count": null,
   "metadata": {
    "collapsed": true
   },
   "outputs": [],
   "source": [
    "import sys\n",
    "from ctypes import CDLL\n",
    "# Isso irá travar em um sistema Linux ou Mac\n",
    "# chamadas equivalentes podem ser feitas no Windows\n",
    "\n",
    "# Descomente essas linhas se desejar ver o segfault\n",
    "\n",
    "# dll = 'dylib' if sys.platform == 'darwin' else 'so.6'\n",
    "# libc = CDLL(\"libc.%s\" % dll) \n",
    "# libc.time(-1)  # BOOM!!"
   ]
  },
  {
   "cell_type": "markdown",
   "metadata": {},
   "source": [
    "### Menu da célula"
   ]
  },
  {
   "cell_type": "markdown",
   "metadata": {},
   "source": [
    "O menu da célula possui uma série de itens de menu para executar o código de diferentes maneiras. Estes incluem:\n",
    "\n",
    "* Executar e selecionar abaixo\n",
    "* Executar e Inserir Abaixo\n",
    "* Executar tudo\n",
    "* Executar tudo acima\n",
    "* Executar tudo abaixo"
   ]
  },
  {
   "cell_type": "markdown",
   "metadata": {},
   "source": [
    "### Reiniciar os kernels"
   ]
  },
  {
   "cell_type": "markdown",
   "metadata": {},
   "source": [
    "O kernel mantém o estado dos cálculos de um notebook. Você pode redefinir este estado reiniciando o kernel. Isso é feito clicando no <button class='btn btn-default btn-xs'><i class='fa fa-repeat icon-repeat'></i></button> na barra de ferramentas acima."
   ]
  },
  {
   "cell_type": "markdown",
   "metadata": {},
   "source": [
    "### sys.stdout and sys.stderr"
   ]
  },
  {
   "cell_type": "markdown",
   "metadata": {},
   "source": [
    "Os fluxos stdout e stderr são exibidos como texto na área de saída."
   ]
  },
  {
   "cell_type": "code",
   "execution_count": null,
   "metadata": {},
   "outputs": [],
   "source": [
    "print(\"ola, stdout\")"
   ]
  },
  {
   "cell_type": "code",
   "execution_count": null,
   "metadata": {},
   "outputs": [],
   "source": [
    "from __future__ import print_function\n",
    "print('ola, stderr', file=sys.stderr)"
   ]
  },
  {
   "cell_type": "markdown",
   "metadata": {},
   "source": [
    "### Saída é assíncrona"
   ]
  },
  {
   "cell_type": "markdown",
   "metadata": {},
   "source": [
    "Toda a saída é exibida de forma assíncrona, pois é gerada no Kernel. Se você executar a próxima célula, você verá a saída de uma peça por vez, nem todas no final."
   ]
  },
  {
   "cell_type": "code",
   "execution_count": null,
   "metadata": {},
   "outputs": [],
   "source": [
    "import time, sys\n",
    "for i in range(8):\n",
    "    print(i)\n",
    "    time.sleep(0.5)"
   ]
  },
  {
   "cell_type": "markdown",
   "metadata": {},
   "source": [
    "### Grandes saídas"
   ]
  },
  {
   "cell_type": "markdown",
   "metadata": {},
   "source": [
    "Para melhor lidar com grandes saídas, a área de saída pode ser colapsada. Execute a seguinte célula e, em seguida, clique de forma simples ou dupla na área ativa à esquerda da saída:"
   ]
  },
  {
   "cell_type": "code",
   "execution_count": null,
   "metadata": {
    "scrolled": true
   },
   "outputs": [],
   "source": [
    "for i in range(50):\n",
    "    print(i)"
   ]
  },
  {
   "cell_type": "markdown",
   "metadata": {},
   "source": [
    "Além de um certo ponto, a saída irá rolar automaticamente:"
   ]
  },
  {
   "cell_type": "code",
   "execution_count": null,
   "metadata": {
    "scrolled": true
   },
   "outputs": [],
   "source": [
    "for i in range(500):\n",
    "    print(2**i - 1)"
   ]
  },
  {
   "cell_type": "markdown",
   "metadata": {},
   "source": [
    "# Fundamentos de PDI (Imagens e histogramas)"
   ]
  },
  {
   "cell_type": "markdown",
   "metadata": {},
   "source": [
    "Um histograma é um tipo de histograma que atua como uma representação gráfica da distribuição tonal em uma imagem digital. Ele traça o número de pixels para cada valor tonal. Ao olhar o histograma para uma imagem específica, o visualizador poderá avaliar toda a distribuição tonal de relance."
   ]
  },
  {
   "cell_type": "markdown",
   "metadata": {},
   "source": [
    "## Carregar uma imagem em escala da cinza:"
   ]
  },
  {
   "cell_type": "code",
   "execution_count": null,
   "metadata": {},
   "outputs": [],
   "source": [
    "import matplotlib.pyplot as plt\n",
    "import matplotlib.image as mpimg\n",
    "\n",
    "img = mpimg.imread('simpsonsG.png')      \n",
    "plt.imshow(img)\n",
    "plt.show()\n",
    "\n",
    "#OU\n",
    "\n",
    "\n",
    "# import skimage.io as io\n",
    "\n",
    "# img = io.imread('simpsonsG.png')\n",
    "# io.imshow(img)\n",
    "# io.show()\n",
    "\n",
    "\n",
    "# OU\n",
    "\n",
    "\n",
    "\n",
    "# from skimage import data, io\n",
    "# image = data.camera()\n",
    "# io.imshow(image, cmap=plt.cm.gray)\n",
    "# io.show()\n"
   ]
  },
  {
   "cell_type": "markdown",
   "metadata": {},
   "source": [
    "## Visualizar histograma de uma imagem em escala de cinza:"
   ]
  },
  {
   "cell_type": "code",
   "execution_count": null,
   "metadata": {},
   "outputs": [],
   "source": [
    "img = io.imread('simpsonsG.png')\n",
    "plt.hist(img.ravel(),256,[0,256])\n",
    "plt.show()"
   ]
  },
  {
   "cell_type": "markdown",
   "metadata": {},
   "source": [
    "### Observações:\n",
    "\n",
    "A função plt.hist() possui como opções: matplotlib.pyplot.hist(x, bins=None, range=None), em que x = dados, bins = taxa de amostragem, range = limites superiores e inferiores do histograma."
   ]
  },
  {
   "cell_type": "markdown",
   "metadata": {},
   "source": [
    "## Visualizar imagem colorida (RGB)"
   ]
  },
  {
   "cell_type": "code",
   "execution_count": null,
   "metadata": {},
   "outputs": [],
   "source": [
    "img = io.imread('simpsons.png')   \n",
    "io.imshow(img)\n",
    "io.show()"
   ]
  },
  {
   "cell_type": "markdown",
   "metadata": {},
   "source": [
    "## Visualizar histograma de imagem colorida:"
   ]
  },
  {
   "cell_type": "code",
   "execution_count": null,
   "metadata": {},
   "outputs": [],
   "source": [
    "%matplotlib inline \n",
    "from matplotlib import pyplot as plt\n",
    "\n",
    "img = io.imread('simpsons.png') \n",
    "color = [ 'r','g','b']\n",
    "for i, c in enumerate(color) :\n",
    "    plt.hist(img[:,:,i].flatten(),256, color=c)\n",
    "plt.show()\n",
    "\n",
    "\n",
    "# from scipy import misc\n",
    "# img = misc.imread('simpsons.png')\n",
    "# color = [ 'r','g','b']\n",
    "# for c in range(0,len(color)) :\n",
    "#     plt.hist(img[:,:,c].flatten(),256, color=color[c])\n",
    "#     plt.show()"
   ]
  },
  {
   "cell_type": "markdown",
   "metadata": {},
   "source": [
    "### Observações:\n",
    "\n",
    "A função plt.hist( ) apresenta uma maior eficiência quando recebe de entrada um vetor de uma dimensão, por tanto a função .flatten( ) transforma um vetor de duas dimensões em uma."
   ]
  },
  {
   "cell_type": "markdown",
   "metadata": {},
   "source": [
    "## Converter imagem RGB em escala de cinza:"
   ]
  },
  {
   "cell_type": "code",
   "execution_count": null,
   "metadata": {},
   "outputs": [],
   "source": [
    "import numpy as np\n",
    "import matplotlib.pyplot as plt\n",
    "\n",
    "def rgb2gray(rgb):\n",
    "    return np.dot(rgb[...,:3], [0.299, 0.587, 0.114])\n",
    "\n",
    "img = io.imread('simpsons.png')     \n",
    "gray = rgb2gray(img)    \n",
    "plt.imshow(gray, cmap = plt.get_cmap('gray'))\n",
    "plt.show()"
   ]
  },
  {
   "cell_type": "markdown",
   "metadata": {},
   "source": [
    "### Observações:\n",
    "\n",
    "Existem outros métodos, este faz a conversão multiplicando os valores dos canais na fórmula Y' = 0.299 R + 0.587 G + 0.114 B, para obter a escala de cinza da imagem."
   ]
  },
  {
   "cell_type": "markdown",
   "metadata": {},
   "source": [
    "## Pra salvar o resultado da conversão:"
   ]
  },
  {
   "cell_type": "code",
   "execution_count": null,
   "metadata": {
    "scrolled": true
   },
   "outputs": [],
   "source": [
    "import numpy as np\n",
    "import matplotlib.pyplot as plt\n",
    "\n",
    "def rgb2gray(rgb):\n",
    "    return np.dot(rgb[...,:3], [0.299, 0.587, 0.114])\n",
    "\n",
    "img = io.imread('simpsons.png')     \n",
    "gray = rgb2gray(img)    \n",
    "\n",
    "fig = plt.imshow(gray, cmap = plt.get_cmap('gray'))\n",
    "plt.axis('off')\n",
    "fig.axes.get_xaxis().set_visible(False)\n",
    "fig.axes.get_yaxis().set_visible(False)\n",
    "plt.savefig('my2.png', transparent = True, bbox_inches='tight', pad_inches = 0)\n",
    "\n",
    "plt.show()"
   ]
  },
  {
   "cell_type": "markdown",
   "metadata": {},
   "source": [
    "### Observações:\n",
    "\n",
    "Existem outros métodos para salvar imagens, principalmente ocm o uso do OpenCV (cv2). Este utiliza o resultado do gráfico mostrado, as opçoes .axis utilizadas a cima servem para remover os eixos e os espaços em branco deixados pela plotagem gráfica."
   ]
  },
  {
   "cell_type": "markdown",
   "metadata": {},
   "source": [
    "## Manipulando exposição das imagens"
   ]
  },
  {
   "cell_type": "code",
   "execution_count": null,
   "metadata": {},
   "outputs": [],
   "source": [
    "import numpy as np\n",
    "import matplotlib.pyplot as plt\n",
    "import skimage.exposure as skie\n",
    "import seaborn as sns\n",
    "%matplotlib inline"
   ]
  },
  {
   "cell_type": "markdown",
   "metadata": {},
   "source": [
    "### Obtendo a imagem"
   ]
  },
  {
   "cell_type": "code",
   "execution_count": null,
   "metadata": {
    "collapsed": true
   },
   "outputs": [],
   "source": [
    "from skimage import data, io\n",
    "img = data.camera()"
   ]
  },
  {
   "cell_type": "markdown",
   "metadata": {},
   "source": [
    "### Função auxiliar para exibir imagem e histograma"
   ]
  },
  {
   "cell_type": "code",
   "execution_count": null,
   "metadata": {
    "collapsed": true
   },
   "outputs": [],
   "source": [
    "def show(img):\n",
    "    # Display the image.\n",
    "    fig, (ax1, ax2) = plt.subplots(1, 2,\n",
    "                                   figsize=(12, 3))\n",
    "\n",
    "    ax1.imshow(img, cmap=plt.cm.gray)\n",
    "    ax1.set_axis_off()\n",
    "\n",
    "    # Display the histogram.\n",
    "    ax2.hist(img.ravel(), lw=0, bins=256)\n",
    "    ax2.set_xlim(0, img.max())\n",
    "    ax2.set_yticks([])\n",
    "\n",
    "    plt.show()"
   ]
  },
  {
   "cell_type": "code",
   "execution_count": null,
   "metadata": {
    "podoc": {
     "output_text": "<matplotlib.figure.Figure at 0x7795080>"
    },
    "scrolled": true
   },
   "outputs": [],
   "source": [
    "show(img)"
   ]
  },
  {
   "cell_type": "markdown",
   "metadata": {},
   "source": [
    "### Alterar a quantidade de bins do histograma"
   ]
  },
  {
   "cell_type": "code",
   "execution_count": null,
   "metadata": {
    "podoc": {
     "output_text": "A crude exposure manipulation technique"
    },
    "scrolled": true
   },
   "outputs": [],
   "source": [
    "show(skie.rescale_intensity(\n",
    "    img, in_range=(0,255), out_range=(0, 30)))"
   ]
  },
  {
   "cell_type": "markdown",
   "metadata": {},
   "source": [
    "### Alterar a Exposição do histograma"
   ]
  },
  {
   "cell_type": "code",
   "execution_count": null,
   "metadata": {
    "podoc": {
     "output_text": "A crude exposure manipulation technique"
    },
    "scrolled": true
   },
   "outputs": [],
   "source": [
    "show(skie.rescale_intensity(\n",
    "    img, in_range=(110,220), out_range=(0, 255)))"
   ]
  },
  {
   "cell_type": "markdown",
   "metadata": {},
   "source": [
    "### Equalizando o Histograma"
   ]
  },
  {
   "cell_type": "code",
   "execution_count": null,
   "metadata": {
    "podoc": {
     "output_text": "<matplotlib.figure.Figure at 0x7ade080>"
    },
    "scrolled": true
   },
   "outputs": [],
   "source": [
    "show(skie.equalize_adapthist(img))"
   ]
  },
  {
   "cell_type": "markdown",
   "metadata": {},
   "source": [
    "# Exercício\n",
    "\n",
    "    Crie um novo notebook jupyter cujo nome deve seguir a seguinte syntaxe:\n",
    "    \n",
    "        lab1-SUAMATRICULA.ypnb\n",
    "\n",
    "    Escolha uma imagem em escala de cinza e uma colorida (RGB).\n",
    "    Escreva o código para carregar e mostrar ambas imagens.\n",
    "    Escreva o código para criar e mostrar o histograma de ambas as imagens.\n",
    "    Escreva o código e mostre uma das imagens com diferente operações no histograma (mudança da exposição, equalização).\n",
    "    Escreva o código que calcule o negativo da imagem."
   ]
  },
  {
   "cell_type": "markdown",
   "metadata": {},
   "source": [
    "# TP1\n",
    "\n",
    "Composição Choma Key - Disponível no moodle."
   ]
  }
 ],
 "metadata": {
  "kernelspec": {
   "display_name": "Python 3",
   "language": "python",
   "name": "python3"
  },
  "language_info": {
   "codemirror_mode": {
    "name": "ipython",
    "version": 3
   },
   "file_extension": ".py",
   "mimetype": "text/x-python",
   "name": "python",
   "nbconvert_exporter": "python",
   "pygments_lexer": "ipython3",
   "version": "3.6.1"
  }
 },
 "nbformat": 4,
 "nbformat_minor": 2
}
